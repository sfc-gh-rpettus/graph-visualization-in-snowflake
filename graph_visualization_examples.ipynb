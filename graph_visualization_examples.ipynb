{
 "metadata": {
  "kernelspec": {
   "display_name": "Streamlit Notebook",
   "name": "streamlit"
  },
  "lastEditStatus": {
   "notebookId": "7shskigp7l7ck36dlwns",
   "authorId": "1672260151737",
   "authorName": "ADMIN",
   "authorEmail": "randy.pettus@snowflake.com",
   "sessionId": "fdcc44c0-2f22-4977-912a-56a5fa21494d",
   "lastEditTime": 1742671816652
  }
 },
 "nbformat_minor": 5,
 "nbformat": 4,
 "cells": [
  {
   "cell_type": "markdown",
   "id": "3e216e34-7fd1-479b-a889-a0a5954fd037",
   "metadata": {
    "name": "cell5",
    "collapsed": false
   },
   "source": "# Graph Visualization in Snowflake Notebooks\n\nThis notebook provides some basic examples showing how to visualize network graphs in Snowflake. Make sure to run this on Snowflake Notebooks on Container Runtime.\n\nThe notebook will walk through some simple examples to see how to interact with connected data directly in Snowflake."
  },
  {
   "cell_type": "markdown",
   "id": "8c532e0a-7402-40fd-871c-5edd11de92c2",
   "metadata": {
    "name": "cell8",
    "collapsed": false
   },
   "source": "## Setup\n\nLet's start by installing and importing the necessary packages."
  },
  {
   "cell_type": "code",
   "id": "252ff798-dfd8-4933-8653-ab4cb947c3b8",
   "metadata": {
    "language": "python",
    "name": "pckg_installs",
    "collapsed": false,
    "resultHeight": 552
   },
   "outputs": [],
   "source": "!pip install igraph\n!pip install gravis\n!pip install networkx\n!pip install faker\n\n# load the packages\nfrom faker import Faker\nimport gravis as gv\nimport igraph as ig\nimport networkx as nx\nimport networkx.algorithms.community\nimport pandas as pd\nimport matplotlib.pyplot as plt\nimport random\n",
   "execution_count": null
  },
  {
   "cell_type": "markdown",
   "id": "78a7aa73-e94c-43a9-9963-abb3bce3598b",
   "metadata": {
    "name": "cell10",
    "collapsed": false
   },
   "source": "## Basic Example from Scratch\n\nNow let's generate a function to create some dummy data. In this case we'll generate data with people visiting places."
  },
  {
   "cell_type": "markdown",
   "id": "71e6080d-7fcc-4d0c-ac6b-7fe0758e70f2",
   "metadata": {
    "name": "cell1",
    "collapsed": false
   },
   "source": ""
  },
  {
   "cell_type": "code",
   "id": "ea7f8342-2f41-4e2e-8502-5d4ec10855db",
   "metadata": {
    "language": "python",
    "name": "cell6"
   },
   "outputs": [],
   "source": "import pandas as pd\nfrom faker import Faker\nimport random\n\ndef create_people_places_graph_table(num_people=100, num_places=15, num_visits=100, seed=None):\n    \"\"\"\n    Generate synthetic people-to-place visit data with a node and edge table.\n    \"\"\"\n    fake = Faker()\n    if seed is not None:\n        random.seed(seed)\n        Faker.seed(seed)\n\n    # generate people and places\n    people = [fake.first_name() for _ in range(num_people)]\n    places = [fake.city() for _ in range(num_places)]\n\n    # Create edges: person visits a place\n    edges = [{\n        'source': random.choice(people),\n        'target': random.choice(places),\n        'relationship': 'visits'\n    } for _ in range(num_visits)]\n\n    df_edges = pd.DataFrame(edges)\n\n    # create dataframes\n    df_people = pd.DataFrame({'id': list(set(people)), 'type': 'person'})\n    df_places = pd.DataFrame({'id': list(set(places)), 'type': 'place'})\n    df_nodes = pd.concat([df_people, df_places], ignore_index=True)\n\n    return df_edges, df_nodes\n\n# use the function\ndf_edges, df_nodes = create_people_places_graph_table()\n",
   "execution_count": null
  },
  {
   "cell_type": "code",
   "id": "e0bdfce9-2418-4ec1-a8df-7276da944812",
   "metadata": {
    "language": "python",
    "name": "cell9"
   },
   "outputs": [],
   "source": "# view an example of df_edges\ndf_edges.head()",
   "execution_count": null
  },
  {
   "cell_type": "code",
   "id": "ee6aaef4-2203-4aba-94a5-7e62bb6d9803",
   "metadata": {
    "language": "python",
    "name": "cell7"
   },
   "outputs": [],
   "source": "\n# builds and visualizes a directed graph of the people and places they visit\nG = nx.DiGraph()\n\n# Add node attributes (color + size)\nfor _, row in df_nodes.iterrows():\n    node_id = row['id']\n    node_type = row['type']\n    G.add_node(node_id, \n               type=node_type,\n               color='skyblue' if node_type == 'person' else 'lightgreen',\n               size=20 if node_type == 'person' else 30)\n\n# Add edges\nfor _, row in df_edges.iterrows():\n    G.add_edge(row['source'], row['target'], label=row['relationship'])\n\n# Visualize using gravis\ngv.d3(G).display(inline=True)\n\n",
   "execution_count": null
  },
  {
   "cell_type": "markdown",
   "id": "375a33c5-210c-4f45-a06e-6a9c936f015b",
   "metadata": {
    "name": "cell11",
    "collapsed": false
   },
   "source": "# Additional Example from a Dictionary\n\nThis next example will allow you to produce an example graph from a dictionary."
  },
  {
   "cell_type": "code",
   "id": "2f508a82-e65e-4ac1-ab6f-e261f8795518",
   "metadata": {
    "language": "python",
    "name": "cell4"
   },
   "outputs": [],
   "source": "\n# Create a directed graph\nG = nx.DiGraph()\n\n# Define a simplified set of key nodes with colors\nnode_colors = {\n    \"Customer\": \"lightblue\",\n    \"Product\": \"lightgreen\",\n    \"Review\": \"lightcoral\",\n    \"Order\": \"lightgray\",\n    \"Loyalty Program\": \"purple\",\n    \"Support Ticket\": \"orange\",\n    \"Marketing Campaign\": \"gold\",\n    \"Advertisement\": \"gold\",\n    \"Referral\": \"lightgray\"\n}\n\n# Add nodes with attributes\nfor node, color in node_colors.items():\n    G.add_node(node, color=color, label=node)  # Store label for Gravis visualization\n\n# Define a simplified set of edges (relationships)\nedges = [\n    (\"Marketing Campaign\", \"Advertisement\", \"part_of\"),\n    (\"Advertisement\", \"Customer\", \"engaged_with\"),\n    (\"Marketing Campaign\", \"Product\", \"promoted\"),\n\n    (\"Customer\", \"Review\", \"left\"),\n    (\"Review\", \"Product\", \"reviewed_on\"),\n\n    (\"Customer\", \"Order\", \"made\"),\n    (\"Order\", \"Product\", \"contains\"),\n    (\"Order\", \"Loyalty Program\", \"earned_points\"),\n\n    (\"Customer\", \"Support Ticket\", \"opened\"),\n    (\"Support Ticket\", \"Product\", \"related_to\"),\n\n    (\"Referral\", \"Customer\", \"referred\"),\n    (\"Loyalty Program\", \"Customer\", \"enrolled_in\")\n]\n\n# Add edges with relationships as attributes\nfor edge in edges:\n    G.add_edge(edge[0], edge[1], label=edge[2])  # Store relationship type as label\n\n# Apply a force-directed layout for better spacing\npos = nx.spring_layout(G, k=.2, seed=42)  # k=1.2 increases node spacing\n\n# Convert NumPy arrays to lists (Fix JSON serialization issue)\npos = {node: pos[node].tolist() for node in pos}  # Convert each position to a list\n\n# Store positions as attributes in the graph\nnx.set_node_attributes(G, pos, \"pos\")\n\n# Convert the graph to an interactive Gravis visualization with expanded spacing\ngraph = gv.d3(\n    G,\n    node_label_data_source='label',  # Show node labels\n    show_edge_label=True,  # Enable edge labels\n    edge_label_data_source='label',  # Show relationship labels on edges\n    graph_height=500   # Increase graph height\n)\n\n# Display the interactive graph\ngraph.display(inline=True)\n",
   "execution_count": null
  },
  {
   "cell_type": "markdown",
   "id": "20384258-92a0-4753-88a5-d5c1ceafab29",
   "metadata": {
    "name": "cell12",
    "collapsed": false
   },
   "source": "## Additional Examples"
  },
  {
   "cell_type": "code",
   "id": "7887ed60-57bf-45c1-b48c-f685295e0b4b",
   "metadata": {
    "language": "python",
    "name": "cell2",
    "resultHeight": 239
   },
   "outputs": [],
   "source": "def assign_properties(g):\n    # Centrality calculation\n    node_centralities = g.betweenness()\n    edge_centralities = g.edge_betweenness()\n\n    # Community detection\n    communities = g.community_fastgreedy().as_clustering().membership\n\n    # Graph properties\n    g['node_border_size'] = 1.5\n    g['node_border_color'] = 'black'\n    g['edge_opacity'] = 0.75\n\n    # Node properties: Size by centrality, color by community\n    colors = ['red', 'blue', 'green', 'orange', 'pink', 'brown', 'yellow', 'cyan', 'magenta', 'violet']\n    g.vs['size'] = [10.0 + val / 50.0 for val in node_centralities]\n    g.vs['color'] = [colors[community_index % len(colors)] for community_index in communities]\n\n    # Edge properties: Size by centrality, color by community (within=community color, between=black)\n    g.es['size'] = [0.5 + val / 100.0 for val in edge_centralities]\n    g.es['color'] = [colors[communities[i] % len(colors)] if communities[i] == communities[j] else 'black'\n                     for i, j in g.get_edgelist()]\n\n\n# Create a graph with a generator function\ng = ig.Graph.GRG(200, 0.14)\n\n# Scale the coordinates provided by this particular graph generator (alternative: delete them)\ng.vs['x'] = [val * 2000 - 1000 for val in g.vs['x']]  # del g.vs['x']\ng.vs['y'] = [val * 2000 - 1000 for val in g.vs['y']]  # del g.vs['y']\n\n# Assign properties\nassign_properties(g)\n\n# Plot it\nfig2 = gv.d3(g, zoom_factor=0.2)\n\n\nfig2.display(inline=True)",
   "execution_count": null
  },
  {
   "cell_type": "code",
   "id": "c695373e-ac74-4b62-a1f1-08206cbd5c81",
   "metadata": {
    "language": "python",
    "name": "cell3"
   },
   "source": "# Create a graph from a stored example\ngraph = nx.les_miserables_graph()\n\ngraph_display = gv.vis(graph)\n\ngraph_display.display(inline=True)",
   "execution_count": null,
   "outputs": []
  }
 ]
}